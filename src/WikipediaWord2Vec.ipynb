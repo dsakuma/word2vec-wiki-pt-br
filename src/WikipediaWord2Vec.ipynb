{
 "cells": [
  {
   "cell_type": "code",
   "execution_count": 1,
   "metadata": {
    "collapsed": true
   },
   "outputs": [],
   "source": [
    "import gensim"
   ]
  },
  {
   "cell_type": "code",
   "execution_count": 2,
   "metadata": {
    "collapsed": true
   },
   "outputs": [],
   "source": [
    "model = gensim.models.Word2Vec.load(\"wiki.pt.word2vec.model\")"
   ]
  },
  {
   "cell_type": "code",
   "execution_count": 5,
   "metadata": {
    "collapsed": false
   },
   "outputs": [
    {
     "data": {
      "text/plain": [
       "[('rainha', 0.5580183863639832),\n",
       " ('esposa', 0.5548939108848572),\n",
       " ('concubina', 0.5516530275344849),\n",
       " ('consorte', 0.4840250611305237),\n",
       " ('madrasta', 0.48201489448547363),\n",
       " ('princesa', 0.4819974899291992),\n",
       " ('viúva', 0.48057329654693604),\n",
       " ('infanta', 0.478267103433609),\n",
       " ('filha', 0.4655485153198242),\n",
       " ('sogra', 0.46444883942604065)]"
      ]
     },
     "execution_count": 5,
     "metadata": {},
     "output_type": "execute_result"
    }
   ],
   "source": [
    "model.most_similar(positive=['rei', 'mulher'], negative=['homem'])"
   ]
  },
  {
   "cell_type": "code",
   "execution_count": 6,
   "metadata": {
    "collapsed": false
   },
   "outputs": [
    {
     "data": {
      "text/plain": [
       "[('dilma', 0.5283161401748657),\n",
       " ('rousseff', 0.45189133286476135),\n",
       " ('roussef', 0.4236127436161041),\n",
       " ('senadora', 0.4193515181541443),\n",
       " ('presidenta', 0.4188535809516907),\n",
       " ('fhc', 0.41739964485168457),\n",
       " ('empresária', 0.4016374945640564),\n",
       " ('advogada', 0.3975934684276581),\n",
       " ('prefeita', 0.38243257999420166),\n",
       " ('sogra', 0.38160109519958496)]"
      ]
     },
     "execution_count": 6,
     "metadata": {},
     "output_type": "execute_result"
    }
   ],
   "source": [
    "model.most_similar(positive=['lula', 'mulher'], negative=['homem'])"
   ]
  },
  {
   "cell_type": "code",
   "execution_count": 7,
   "metadata": {
    "collapsed": false
   },
   "outputs": [
    {
     "data": {
      "text/plain": [
       "[('advogada', 0.6739135384559631),\n",
       " ('empresária', 0.5551574230194092),\n",
       " ('esposa', 0.5424084663391113),\n",
       " ('juíza', 0.5272496938705444),\n",
       " ('socialite', 0.5074021816253662),\n",
       " ('psicóloga', 0.5028662085533142),\n",
       " ('secretária', 0.4931854009628296),\n",
       " ('bibliotecária', 0.48786675930023193),\n",
       " ('funcionária', 0.4853818416595459),\n",
       " ('parteira', 0.48133352398872375)]"
      ]
     },
     "execution_count": 7,
     "metadata": {},
     "output_type": "execute_result"
    }
   ],
   "source": [
    "model.most_similar(positive=['advogado', 'mulher'], negative=['homem'])"
   ]
  },
  {
   "cell_type": "code",
   "execution_count": 8,
   "metadata": {
    "collapsed": false
   },
   "outputs": [
    {
     "data": {
      "text/plain": [
       "[('enfermeira', 0.5787383317947388),\n",
       " ('parteira', 0.5413443446159363),\n",
       " ('psicóloga', 0.5162509083747864),\n",
       " ('advogada', 0.506144106388092),\n",
       " ('esposa', 0.5017126202583313),\n",
       " ('cirurgiã', 0.48972228169441223),\n",
       " ('pediatra', 0.4863891899585724),\n",
       " ('obstetra', 0.4744173288345337),\n",
       " ('psiquiatra', 0.4738556146621704),\n",
       " ('sanitarista', 0.4667832553386688)]"
      ]
     },
     "execution_count": 8,
     "metadata": {},
     "output_type": "execute_result"
    }
   ],
   "source": [
    "model.most_similar(positive=['médico', 'mulher'], negative=['homem'])"
   ]
  },
  {
   "cell_type": "code",
   "execution_count": 11,
   "metadata": {
    "collapsed": false
   },
   "outputs": [
    {
     "data": {
      "text/plain": [
       "[('designer', 0.4391375184059143),\n",
       " ('programadora', 0.42957618832588196),\n",
       " ('desenvolvedor', 0.42358410358428955),\n",
       " ('fotógrafa', 0.41703471541404724),\n",
       " ('empresária', 0.408869206905365),\n",
       " ('planilha', 0.3924582302570343),\n",
       " ('api', 0.38976791501045227),\n",
       " ('esposa', 0.3891558051109314),\n",
       " ('advogada', 0.38708916306495667),\n",
       " ('workstation', 0.37881964445114136)]"
      ]
     },
     "execution_count": 11,
     "metadata": {},
     "output_type": "execute_result"
    }
   ],
   "source": [
    "model.most_similar(positive=['programador', 'mulher'], negative=['homem'])"
   ]
  },
  {
   "cell_type": "code",
   "execution_count": 12,
   "metadata": {
    "collapsed": false
   },
   "outputs": [
    {
     "data": {
      "text/plain": [
       "[('esposa', 0.4745566248893738),\n",
       " ('sogra', 0.4572954773902893),\n",
       " ('namorada', 0.4502072334289551),\n",
       " ('patroa', 0.4460194706916809),\n",
       " ('noiva', 0.4372638165950775),\n",
       " ('rapariga', 0.4336901903152466),\n",
       " ('magali', 0.4324289858341217),\n",
       " ('prostituta', 0.42178940773010254),\n",
       " ('louca', 0.4211907982826233),\n",
       " ('solteirona', 0.42062389850616455)]"
      ]
     },
     "execution_count": 12,
     "metadata": {},
     "output_type": "execute_result"
    }
   ],
   "source": [
    "model.most_similar(positive=['louco', 'mulher'], negative=['homem'])"
   ]
  },
  {
   "cell_type": "code",
   "execution_count": 13,
   "metadata": {
    "collapsed": false
   },
   "outputs": [
    {
     "data": {
      "text/plain": [
       "[('sogra', 0.4798882007598877),\n",
       " ('solteirona', 0.4722886383533478),\n",
       " ('enteada', 0.4708896279335022),\n",
       " ('madrasta', 0.4685775935649872),\n",
       " ('esposa', 0.46442556381225586),\n",
       " ('tutora', 0.46073949337005615),\n",
       " ('prostituta', 0.4529085159301758),\n",
       " ('histérica', 0.45156216621398926),\n",
       " ('humilhada', 0.4515412449836731),\n",
       " ('obesa', 0.45083263516426086)]"
      ]
     },
     "execution_count": 13,
     "metadata": {},
     "output_type": "execute_result"
    }
   ],
   "source": [
    "model.most_similar(positive=['insuportável', 'mulher'], negative=['homem'])"
   ]
  },
  {
   "cell_type": "code",
   "execution_count": 14,
   "metadata": {
    "collapsed": false
   },
   "outputs": [
    {
     "data": {
      "text/plain": [
       "[('minnie', 0.5080608129501343),\n",
       " ('namorada', 0.4277322292327881),\n",
       " ('coelha', 0.4188386797904968),\n",
       " ('tia', 0.4005798101425171),\n",
       " ('molly', 0.4005451798439026),\n",
       " ('esposa', 0.3986195921897888),\n",
       " ('polly', 0.39842456579208374),\n",
       " ('thurman', 0.39588576555252075),\n",
       " ('srta', 0.39506611227989197),\n",
       " ('garotinha', 0.3923646807670593)]"
      ]
     },
     "execution_count": 14,
     "metadata": {},
     "output_type": "execute_result"
    }
   ],
   "source": [
    "model.most_similar(positive=['mickey', 'mulher'], negative=['homem'])"
   ]
  },
  {
   "cell_type": "code",
   "execution_count": 32,
   "metadata": {
    "collapsed": false
   },
   "outputs": [
    {
     "data": {
      "text/plain": [
       "[('redetv', 0.6226900815963745),\n",
       " ('globo', 0.54798424243927),\n",
       " ('emissora', 0.5441724061965942),\n",
       " ('telejornal', 0.5433237552642822),\n",
       " ('gugu', 0.5351028442382812),\n",
       " ('ratinho', 0.5331317186355591),\n",
       " ('gnt', 0.5273218154907227),\n",
       " ('multishow', 0.526608943939209),\n",
       " ('reestreia', 0.5199078321456909),\n",
       " ('record', 0.5169098377227783)]"
      ]
     },
     "execution_count": 32,
     "metadata": {},
     "output_type": "execute_result"
    }
   ],
   "source": [
    "model.most_similar(positive=['sbt'])"
   ]
  },
  {
   "cell_type": "code",
   "execution_count": 20,
   "metadata": {
    "collapsed": false
   },
   "outputs": [
    {
     "data": {
      "text/plain": [
       "[('estruturalismo', 0.48532527685165405),\n",
       " ('marxismo', 0.478792667388916),\n",
       " ('imperialismo', 0.47426116466522217),\n",
       " ('socialismo', 0.47072649002075195),\n",
       " ('individualismo', 0.4703090786933899),\n",
       " ('humanismo', 0.4696197509765625),\n",
       " ('hegeliana', 0.4689655900001526),\n",
       " ('racionalismo', 0.467700719833374),\n",
       " ('liberalismo', 0.46712517738342285),\n",
       " ('anarquismo', 0.46448829770088196)]"
      ]
     },
     "execution_count": 20,
     "metadata": {},
     "output_type": "execute_result"
    }
   ],
   "source": [
    "model.most_similar(positive=['capitalismo'], negative=['dinheiro'])"
   ]
  },
  {
   "cell_type": "code",
   "execution_count": 22,
   "metadata": {
    "collapsed": false
   },
   "outputs": [
    {
     "data": {
      "text/plain": [
       "[('mansão', 0.4204382598400116),\n",
       " ('taberna', 0.3935236930847168),\n",
       " ('vivenda', 0.38877612352371216),\n",
       " ('barraca', 0.38570651412010193),\n",
       " ('cabana', 0.3827415704727173),\n",
       " ('sala', 0.3825319707393646),\n",
       " ('pousada', 0.37011289596557617),\n",
       " ('casinha', 0.3688931167125702),\n",
       " ('varanda', 0.3589284121990204),\n",
       " ('chalé', 0.3567494750022888)]"
      ]
     },
     "execution_count": 22,
     "metadata": {},
     "output_type": "execute_result"
    }
   ],
   "source": [
    "model.most_similar(positive=['casa'], negative=['pobreza'])"
   ]
  },
  {
   "cell_type": "code",
   "execution_count": null,
   "metadata": {
    "collapsed": true
   },
   "outputs": [],
   "source": []
  }
 ],
 "metadata": {
  "kernelspec": {
   "display_name": "Python 3",
   "language": "python",
   "name": "python3"
  },
  "language_info": {
   "codemirror_mode": {
    "name": "ipython",
    "version": 3
   },
   "file_extension": ".py",
   "mimetype": "text/x-python",
   "name": "python",
   "nbconvert_exporter": "python",
   "pygments_lexer": "ipython3",
   "version": "3.5.1"
  },
  "widgets": {
   "state": {},
   "version": "1.1.1"
  }
 },
 "nbformat": 4,
 "nbformat_minor": 0
}
